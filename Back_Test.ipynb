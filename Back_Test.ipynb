{
 "cells": [
  {
   "cell_type": "code",
   "execution_count": 1,
   "metadata": {},
   "outputs": [],
   "source": [
    "import numpy as np\n",
    "import pandas as pd\n",
    "from scipy import stats\n",
    "\n",
    "\n",
    "import statsmodels.formula.api as smf\n",
    "import statsmodels.tsa.api as smt\n",
    "import statsmodels.api as sm\n",
    "import scipy.stats as scs\n",
    "import statsmodels.stats as sms\n",
    "\n",
    "import matplotlib.pyplot as plt\n",
    "import matplotlib as mpl\n",
    "\n",
    "\n",
    "# 引入Kalman函数库\n",
    "from pykalman import KalmanFilter\n",
    "\n",
    "# 引入纯随机序列检测，只有是非纯随机序列，才能进行检测\n",
    "from statsmodels.stats.diagnostic import acorr_ljungbox\n",
    "\n",
    "# 引入时序分析模型进行模型匹配\n",
    "from statsmodels.tsa.arima_model import ARMA\n",
    "\n",
    "import itertools\n",
    "\n",
    "from jqdata import *\n",
    "from jqfactor import *"
   ]
  },
  {
   "cell_type": "markdown",
   "metadata": {},
   "source": [
    "# 研究中建立回测（需要的策略中提前完成策略编写）\n",
    "通过设置不同的参数后建立回测数据，通过回测数据计算因子载荷"
   ]
  },
  {
   "cell_type": "code",
   "execution_count": 5,
   "metadata": {},
   "outputs": [],
   "source": [
    "#需要自己设置的参数,False/True参数传过去显示没法序列化，但是直接用{}传过去没问题\n",
    "\n",
    "paramNames=['factor_num','stocks_num']\n",
    "paramList=[[4,5,6],[30,50,70,90]]\n",
    "# paramList=[[3],[30]]\n",
    "\n",
    "algorithmID='9fa65d9ae8bd261f3fac98f05d81e86e'\n",
    "\n",
    "startDate='2015-01-01'\n",
    "endDate='2016-12-31'\n",
    "frequency='day'\n",
    "initialCash=1000000\n",
    "maxBacktestNum=9 #最大同时回测数\n",
    "\n",
    "# 分解参数列表，将每个参数进行映射\n",
    "params=list(itertools.product(*paramList))\n",
    "\n",
    "# 存储结果的数组\n",
    "df = pd.DataFrame(params,index=params,columns=paramNames)\n",
    "\n",
    "# backtest的存储列表\n",
    "created_bt_ids = []\n",
    "\n",
    "\n",
    "for i in range(min(maxBacktestNum,df.shape[0])):\n",
    "    var = df.iloc[i].to_dict()\n",
    "    out_algorithm_id = create_backtest(algorithm_id=algorithmID, # id 需要自己拷贝\n",
    "                        start_date=startDate, \n",
    "                        end_date=endDate, \n",
    "                        frequency=frequency, \n",
    "                        initial_cash=initialCash, \n",
    "                        initial_positions=None, \n",
    "                        extras= eval(str(var)),\n",
    "                        name=str(var)\n",
    "                        )\n",
    "    \n",
    "    gt = get_backtest(out_algorithm_id)\n",
    "    \n",
    "    while gt.get_status() != 'done':\n",
    "        time.sleep(5)\n",
    "        created_bt_ids.append(out_algorithm_id)\n",
    "    \n"
   ]
  },
  {
   "cell_type": "code",
   "execution_count": 6,
   "metadata": {},
   "outputs": [],
   "source": [
    "# backtest_id是所有回测的ID\n",
    "\n",
    "# 存储最终的结果\n",
    "res_backtest = {}\n",
    "\n",
    "#填入不同参数下的收益数据\n",
    "for i in range(len(created_bt_ids)):\n",
    "    res = {}\n",
    "    \n",
    "    gt = get_backtest(backtest_id = created_bt_ids[i])\n",
    "\n",
    "    \n",
    "    # 获得名称\n",
    "    name = gt.get_params()['name'] \n",
    "    res_backtest[name] = []\n",
    "    \n",
    "    # 获得基本的参数\n",
    "    res = gt.get_risk()\n",
    "    \n",
    "    res_backtest[name].append(res['algorithm_return'])\n",
    "    res_backtest[name].append(res['max_drawdown'])\n",
    "\n"
   ]
  },
  {
   "cell_type": "code",
   "execution_count": 7,
   "metadata": {},
   "outputs": [
    {
     "data": {
      "text/html": [
       "<div>\n",
       "<style scoped>\n",
       "    .dataframe tbody tr th:only-of-type {\n",
       "        vertical-align: middle;\n",
       "    }\n",
       "\n",
       "    .dataframe tbody tr th {\n",
       "        vertical-align: top;\n",
       "    }\n",
       "\n",
       "    .dataframe thead th {\n",
       "        text-align: right;\n",
       "    }\n",
       "</style>\n",
       "<table border=\"1\" class=\"dataframe\">\n",
       "  <thead>\n",
       "    <tr style=\"text-align: right;\">\n",
       "      <th></th>\n",
       "      <th>0</th>\n",
       "      <th>1</th>\n",
       "    </tr>\n",
       "  </thead>\n",
       "  <tbody>\n",
       "    <tr>\n",
       "      <th>&amp;#123;&amp;#39;factor_num&amp;#39;: 4, &amp;#39;stocks_num&amp;#39;: 30}</th>\n",
       "      <td>0.503906</td>\n",
       "      <td>0.423193</td>\n",
       "    </tr>\n",
       "    <tr>\n",
       "      <th>&amp;#123;&amp;#39;factor_num&amp;#39;: 4, &amp;#39;stocks_num&amp;#39;: 50}</th>\n",
       "      <td>0.277746</td>\n",
       "      <td>0.446062</td>\n",
       "    </tr>\n",
       "    <tr>\n",
       "      <th>&amp;#123;&amp;#39;factor_num&amp;#39;: 4, &amp;#39;stocks_num&amp;#39;: 70}</th>\n",
       "      <td>0.236117</td>\n",
       "      <td>0.453804</td>\n",
       "    </tr>\n",
       "    <tr>\n",
       "      <th>&amp;#123;&amp;#39;factor_num&amp;#39;: 4, &amp;#39;stocks_num&amp;#39;: 90}</th>\n",
       "      <td>0.257764</td>\n",
       "      <td>0.448384</td>\n",
       "    </tr>\n",
       "    <tr>\n",
       "      <th>&amp;#123;&amp;#39;factor_num&amp;#39;: 5, &amp;#39;stocks_num&amp;#39;: 30}</th>\n",
       "      <td>0.456989</td>\n",
       "      <td>0.438509</td>\n",
       "    </tr>\n",
       "    <tr>\n",
       "      <th>&amp;#123;&amp;#39;factor_num&amp;#39;: 5, &amp;#39;stocks_num&amp;#39;: 50}</th>\n",
       "      <td>0.314244</td>\n",
       "      <td>0.438353</td>\n",
       "    </tr>\n",
       "    <tr>\n",
       "      <th>&amp;#123;&amp;#39;factor_num&amp;#39;: 5, &amp;#39;stocks_num&amp;#39;: 70}</th>\n",
       "      <td>0.225764</td>\n",
       "      <td>0.459334</td>\n",
       "    </tr>\n",
       "    <tr>\n",
       "      <th>&amp;#123;&amp;#39;factor_num&amp;#39;: 5, &amp;#39;stocks_num&amp;#39;: 90}</th>\n",
       "      <td>0.193378</td>\n",
       "      <td>0.467779</td>\n",
       "    </tr>\n",
       "    <tr>\n",
       "      <th>&amp;#123;&amp;#39;factor_num&amp;#39;: 6, &amp;#39;stocks_num&amp;#39;: 30}</th>\n",
       "      <td>0.485910</td>\n",
       "      <td>0.412235</td>\n",
       "    </tr>\n",
       "  </tbody>\n",
       "</table>\n",
       "</div>"
      ],
      "text/plain": [
       "                                                           0         1\n",
       "&#123;&#39;factor_num&#39;: 4, &#39;stocks_num&...  0.503906  0.423193\n",
       "&#123;&#39;factor_num&#39;: 4, &#39;stocks_num&...  0.277746  0.446062\n",
       "&#123;&#39;factor_num&#39;: 4, &#39;stocks_num&...  0.236117  0.453804\n",
       "&#123;&#39;factor_num&#39;: 4, &#39;stocks_num&...  0.257764  0.448384\n",
       "&#123;&#39;factor_num&#39;: 5, &#39;stocks_num&...  0.456989  0.438509\n",
       "&#123;&#39;factor_num&#39;: 5, &#39;stocks_num&...  0.314244  0.438353\n",
       "&#123;&#39;factor_num&#39;: 5, &#39;stocks_num&...  0.225764  0.459334\n",
       "&#123;&#39;factor_num&#39;: 5, &#39;stocks_num&...  0.193378  0.467779\n",
       "&#123;&#39;factor_num&#39;: 6, &#39;stocks_num&...  0.485910  0.412235"
      ]
     },
     "execution_count": 7,
     "metadata": {},
     "output_type": "execute_result"
    }
   ],
   "source": [
    "pd.DataFrame.from_dict(res_backtest, orient='index')"
   ]
  },
  {
   "cell_type": "code",
   "execution_count": 5,
   "metadata": {},
   "outputs": [],
   "source": [
    "pd.DataFrame.from_dict(res_backtest, orient='index').to_csv('test1.csv')"
   ]
  },
  {
   "cell_type": "code",
   "execution_count": null,
   "metadata": {},
   "outputs": [],
   "source": []
  },
  {
   "cell_type": "markdown",
   "metadata": {},
   "source": [
    "# 根据回测获取基本信息\n"
   ]
  },
  {
   "cell_type": "code",
   "execution_count": 13,
   "metadata": {},
   "outputs": [
    {
     "data": {
      "text/plain": [
       "{'__version': 101,\n",
       " 'algorithm_return': 0.0753598444950001,\n",
       " 'algorithm_volatility': 0.206290540882483,\n",
       " 'alpha': -0.032821074348489215,\n",
       " 'annual_algo_return': 0.027648340479597744,\n",
       " 'annual_bm_return': 0.06360818074638397,\n",
       " 'avg_excess_return': -0.00010142684845106405,\n",
       " 'avg_position_days': 60.3421052631579,\n",
       " 'avg_trade_return': 0.016094722308521065,\n",
       " 'benchmark_return': 0.178545533642694,\n",
       " 'benchmark_volatility': 0.18320956649284728,\n",
       " 'beta': 0.867047531022577,\n",
       " 'day_win_ratio': 0.5225225225225225,\n",
       " 'excess_return': -0.08755341749822865,\n",
       " 'excess_return_max_drawdown': 0.25529284970166977,\n",
       " 'excess_return_max_drawdown_period': ['2017-04-11', '2018-02-06'],\n",
       " 'excess_return_sharpe': -0.5494656006279569,\n",
       " 'information': -0.26866137536453666,\n",
       " 'lose_count': 279,\n",
       " 'max_drawdown': 0.3274010879545035,\n",
       " 'max_drawdown_period': ['2017-09-06', '2018-10-18'],\n",
       " 'max_leverage': 0.0,\n",
       " 'period_label': '2019-09',\n",
       " 'profit_loss_ratio': 1.090412568596583,\n",
       " 'sharpe': -0.059875064884524175,\n",
       " 'sortino': -0.07485369841809698,\n",
       " 'trading_days': 666,\n",
       " 'treasury_return': 0.10893150684931506,\n",
       " 'turnover_rate': 0.026728300831502457,\n",
       " 'win_count': 279,\n",
       " 'win_ratio': 0.5}"
      ]
     },
     "execution_count": 13,
     "metadata": {},
     "output_type": "execute_result"
    }
   ],
   "source": [
    "# 填写algorithm ID\n",
    "gt = get_backtest(backtest_id = '751eb71519082465d3f47518c4aa315f' )\n",
    "\n",
    "# 获取结果\n",
    "res = gt.get_results()\n",
    "\n",
    "# 显示结果\n",
    "gt.get_risk()"
   ]
  },
  {
   "cell_type": "code",
   "execution_count": null,
   "metadata": {},
   "outputs": [],
   "source": []
  },
  {
   "cell_type": "markdown",
   "metadata": {},
   "source": [
    "# 显示行业总共有哪些股票\n"
   ]
  },
  {
   "cell_type": "code",
   "execution_count": 9,
   "metadata": {},
   "outputs": [
    {
     "data": {
      "text/plain": [
       "(28, 1)"
      ]
     },
     "execution_count": 9,
     "metadata": {},
     "output_type": "execute_result"
    }
   ],
   "source": [
    "# 提取行业的名称\n",
    "industry_list = get_industries(name='sw_l1', date='2019-5-17').index\n",
    "industry_name = get_industries(name='sw_l1', date='2019-5-17')['name']\n",
    "\n",
    "industry_dict = {}\n",
    "\n",
    "for i in range(0,len(industry_list)):\n",
    "    # 获取行业编码列表\n",
    "    industry_i =  industry_list[i]\n",
    "    \n",
    "    # 根据行业编码提取相应的股票\n",
    "    sec_pool = []\n",
    "    sec_pool = get_industry_stocks(industry_i,date='2019-5-17')\n",
    "\n",
    "    # 赋值\n",
    "    industry_dict[industry_name[i]] = len(sec_pool)\n",
    "    \n",
    "    \n",
    "\n",
    "pd.DataFrame.from_dict(industry_dict,orient='index').shape\n",
    "\n",
    "# pd.DataFrame.from_dict(industry_dict,orient='index')\n",
    "    \n",
    "\n",
    "#     Secs_Chosen = []\n",
    "#     Secs_Chosen = Sec_Choose(context,sec_pool)\n",
    "#     print \"选出股票：%s\"%str(Secs_Chosen)\n",
    "\n",
    "#     candidate_list =  candidate_list + Secs_Chosen\n",
    "# print(get_industries(name='zjw', date='2019-5-17'))\n",
    "# print(get_industries(name='zjw', date='2019-5-17').shape)\n"
   ]
  },
  {
   "cell_type": "code",
   "execution_count": null,
   "metadata": {},
   "outputs": [],
   "source": []
  },
  {
   "cell_type": "code",
   "execution_count": null,
   "metadata": {},
   "outputs": [],
   "source": []
  },
  {
   "cell_type": "code",
   "execution_count": null,
   "metadata": {},
   "outputs": [],
   "source": []
  },
  {
   "cell_type": "code",
   "execution_count": null,
   "metadata": {},
   "outputs": [],
   "source": []
  },
  {
   "cell_type": "code",
   "execution_count": null,
   "metadata": {},
   "outputs": [],
   "source": []
  },
  {
   "cell_type": "code",
   "execution_count": null,
   "metadata": {},
   "outputs": [],
   "source": []
  },
  {
   "cell_type": "code",
   "execution_count": 11,
   "metadata": {},
   "outputs": [
    {
     "data": {
      "text/plain": [
       "{'&#123;&#39;factor_num&#39;: 3, &#39;stocks_num&#39;: 30}': [0.2903464259200039,\n",
       "  0.4406520507573568]}"
      ]
     },
     "execution_count": 11,
     "metadata": {},
     "output_type": "execute_result"
    }
   ],
   "source": [
    "res_backtest"
   ]
  },
  {
   "cell_type": "code",
   "execution_count": 12,
   "metadata": {},
   "outputs": [
    {
     "data": {
      "text/html": [
       "<div>\n",
       "<style scoped>\n",
       "    .dataframe tbody tr th:only-of-type {\n",
       "        vertical-align: middle;\n",
       "    }\n",
       "\n",
       "    .dataframe tbody tr th {\n",
       "        vertical-align: top;\n",
       "    }\n",
       "\n",
       "    .dataframe thead th {\n",
       "        text-align: right;\n",
       "    }\n",
       "</style>\n",
       "<table border=\"1\" class=\"dataframe\">\n",
       "  <thead>\n",
       "    <tr style=\"text-align: right;\">\n",
       "      <th></th>\n",
       "      <th>&amp;#123;&amp;#39;factor_num&amp;#39;: 3, &amp;#39;stocks_num&amp;#39;: 30}</th>\n",
       "    </tr>\n",
       "  </thead>\n",
       "  <tbody>\n",
       "    <tr>\n",
       "      <th>0</th>\n",
       "      <td>0.290346</td>\n",
       "    </tr>\n",
       "    <tr>\n",
       "      <th>1</th>\n",
       "      <td>0.440652</td>\n",
       "    </tr>\n",
       "  </tbody>\n",
       "</table>\n",
       "</div>"
      ],
      "text/plain": [
       "   &#123;&#39;factor_num&#39;: 3, &#39;stocks_num&#39;: 30}\n",
       "0                                           0.290346       \n",
       "1                                           0.440652       "
      ]
     },
     "execution_count": 12,
     "metadata": {},
     "output_type": "execute_result"
    }
   ],
   "source": [
    "pd.DataFrame(res_backtest)"
   ]
  },
  {
   "cell_type": "code",
   "execution_count": 13,
   "metadata": {},
   "outputs": [
    {
     "data": {
      "text/html": [
       "<div>\n",
       "<style scoped>\n",
       "    .dataframe tbody tr th:only-of-type {\n",
       "        vertical-align: middle;\n",
       "    }\n",
       "\n",
       "    .dataframe tbody tr th {\n",
       "        vertical-align: top;\n",
       "    }\n",
       "\n",
       "    .dataframe thead th {\n",
       "        text-align: right;\n",
       "    }\n",
       "</style>\n",
       "<table border=\"1\" class=\"dataframe\">\n",
       "  <thead>\n",
       "    <tr style=\"text-align: right;\">\n",
       "      <th></th>\n",
       "      <th>0</th>\n",
       "      <th>1</th>\n",
       "    </tr>\n",
       "  </thead>\n",
       "  <tbody>\n",
       "    <tr>\n",
       "      <th>&amp;#123;&amp;#39;factor_num&amp;#39;: 3, &amp;#39;stocks_num&amp;#39;: 30}</th>\n",
       "      <td>0.290346</td>\n",
       "      <td>0.440652</td>\n",
       "    </tr>\n",
       "  </tbody>\n",
       "</table>\n",
       "</div>"
      ],
      "text/plain": [
       "                                                           0         1\n",
       "&#123;&#39;factor_num&#39;: 3, &#39;stocks_num&...  0.290346  0.440652"
      ]
     },
     "execution_count": 13,
     "metadata": {},
     "output_type": "execute_result"
    }
   ],
   "source": [
    "pd.DataFrame.from_dict(res_backtest, orient='index')"
   ]
  },
  {
   "cell_type": "code",
   "execution_count": null,
   "metadata": {},
   "outputs": [],
   "source": []
  },
  {
   "cell_type": "code",
   "execution_count": null,
   "metadata": {},
   "outputs": [],
   "source": []
  },
  {
   "cell_type": "code",
   "execution_count": null,
   "metadata": {},
   "outputs": [],
   "source": []
  },
  {
   "cell_type": "code",
   "execution_count": null,
   "metadata": {},
   "outputs": [],
   "source": [
    "#先获取基准收益和交易日信息\n",
    "gt = get_backtest(backtest_id = created_bt_ids[0])\n",
    "# 结果\n",
    "res = gt.get_results()\n",
    "\n",
    "# 基准收益率\n",
    "b_return = []\n",
    "# 时间\n",
    "t = []\n",
    "\n",
    "# 基准收益率存储\n",
    "for r in res:\n",
    "    b_return.append(r['benchmark_returns'])\n",
    "    t.append(r['time'])\n",
    "\n",
    "#建立df存储数据   \n",
    "factor_data_pd = pd.DataFrame(index = t)\n",
    "factor_data_pd['b_return'] = b_return\n",
    "\n",
    "#填入不同参数下的收益数据\n",
    "for i in range(len(created_bt_ids)):\n",
    "    gt = get_backtest(backtest_id = created_bt_ids[i])\n",
    "    res = gt.get_results()\n",
    "    name = gt.get_params()['name'] \n",
    "    s_return = []\n",
    "    for r in res:\n",
    "        s_return.append(r['returns'])\n",
    "\n",
    "    factor_data_pd[name] = s_return\n",
    "\n",
    "factor_data_pd.plot(figsize = (15,10))"
   ]
  },
  {
   "cell_type": "code",
   "execution_count": null,
   "metadata": {},
   "outputs": [],
   "source": [
    "factor_data_pd"
   ]
  },
  {
   "cell_type": "code",
   "execution_count": 9,
   "metadata": {},
   "outputs": [],
   "source": [
    "factor_data_pd.to_csv(\"20190924.csv\")"
   ]
  },
  {
   "cell_type": "code",
   "execution_count": 4,
   "metadata": {},
   "outputs": [
    {
     "data": {
      "text/plain": [
       "{'__version': 101,\n",
       " 'algorithm_return': 0.2903464259200039,\n",
       " 'algorithm_volatility': 0.360622029372603,\n",
       " 'alpha': 0.17901489072853866,\n",
       " 'annual_algo_return': 0.1394999354855091,\n",
       " 'annual_bm_return': -0.032935736415346306,\n",
       " 'avg_excess_return': 0.0006773238407443955,\n",
       " 'avg_position_days': 91.04819277108433,\n",
       " 'avg_trade_return': 0.049304101658580644,\n",
       " 'benchmark_return': -0.06328211223363389,\n",
       " 'benchmark_volatility': 0.3185058080061141,\n",
       " 'beta': 1.0902056954661656,\n",
       " 'day_win_ratio': 0.5614754098360656,\n",
       " 'excess_return': 0.37751872017398913,\n",
       " 'excess_return_max_drawdown': 0.0969767242486419,\n",
       " 'excess_return_max_drawdown_period': ['2015-06-29', '2015-09-25'],\n",
       " 'excess_return_sharpe': 1.3567517849630504,\n",
       " 'information': 1.69903495929358,\n",
       " 'lose_count': 121,\n",
       " 'max_drawdown': 0.4406520507573568,\n",
       " 'max_drawdown_period': ['2015-06-12', '2015-08-26'],\n",
       " 'max_leverage': 0.0,\n",
       " 'period_label': '2016-12',\n",
       " 'profit_loss_ratio': 1.470935927585358,\n",
       " 'sharpe': 0.2759119725952833,\n",
       " 'sortino': 0.31781093658541687,\n",
       " 'trading_days': 488,\n",
       " 'treasury_return': 0.07945205479452055,\n",
       " 'turnover_rate': 0.01720534387933304,\n",
       " 'win_count': 207,\n",
       " 'win_ratio': 0.6310975609756098}"
      ]
     },
     "execution_count": 4,
     "metadata": {},
     "output_type": "execute_result"
    }
   ],
   "source": [
    "#先获取基准收益和交易日信息\n",
    "gt = get_backtest(backtest_id = created_bt_ids[0])\n",
    "# 结果\n",
    "res = gt.get_results()\n",
    "\n",
    "gt.get_risk()"
   ]
  },
  {
   "cell_type": "code",
   "execution_count": null,
   "metadata": {},
   "outputs": [],
   "source": []
  }
 ],
 "metadata": {
  "kernelspec": {
   "display_name": "Python 3",
   "language": "python",
   "name": "python3"
  },
  "language_info": {
   "codemirror_mode": {
    "name": "ipython",
    "version": 3
   },
   "file_extension": ".py",
   "mimetype": "text/x-python",
   "name": "python",
   "nbconvert_exporter": "python",
   "pygments_lexer": "ipython3",
   "version": "3.6.7"
  },
  "toc": {
   "base_numbering": 1,
   "nav_menu": {},
   "number_sections": false,
   "sideBar": true,
   "skip_h1_title": false,
   "title_cell": "MarkDown菜单",
   "title_sidebar": "Contents",
   "toc_cell": false,
   "toc_position": {},
   "toc_section_display": true,
   "toc_window_display": false
  }
 },
 "nbformat": 4,
 "nbformat_minor": 2
}
